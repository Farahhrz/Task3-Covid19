{
  "nbformat": 4,
  "nbformat_minor": 0,
  "metadata": {
    "colab": {
      "provenance": []
    },
    "kernelspec": {
      "name": "python3",
      "display_name": "Python 3"
    },
    "language_info": {
      "name": "python"
    }
  },
  "cells": [
    {
      "cell_type": "code",
      "execution_count": 15,
      "metadata": {
        "id": "oEJKCN_5BikP"
      },
      "outputs": [],
      "source": [
        "import pandas as pd"
      ]
    },
    {
      "cell_type": "code",
      "source": [
        "df=pd.read_csv('owid-covid-data (1).csv')"
      ],
      "metadata": {
        "id": "al-Oov4BB0Ja"
      },
      "execution_count": 16,
      "outputs": []
    },
    {
      "cell_type": "markdown",
      "source": [
        "##Data Cleaning"
      ],
      "metadata": {
        "id": "ZSFo3zFzB9B0"
      }
    },
    {
      "cell_type": "code",
      "source": [
        "df.info()"
      ],
      "metadata": {
        "colab": {
          "base_uri": "https://localhost:8080/"
        },
        "id": "2y9NENxwB3VS",
        "outputId": "45e48ae2-9b8e-4958-8efe-0d011cd79f5e"
      },
      "execution_count": 17,
      "outputs": [
        {
          "output_type": "stream",
          "name": "stdout",
          "text": [
            "<class 'pandas.core.frame.DataFrame'>\n",
            "RangeIndex: 129108 entries, 0 to 129107\n",
            "Data columns (total 67 columns):\n",
            " #   Column                                      Non-Null Count   Dtype  \n",
            "---  ------                                      --------------   -----  \n",
            " 0   iso_code                                    129108 non-null  object \n",
            " 1   continent                                   122666 non-null  object \n",
            " 2   location                                    129108 non-null  object \n",
            " 3   date                                        129108 non-null  object \n",
            " 4   total_cases                                 121318 non-null  float64\n",
            " 5   new_cases                                   127283 non-null  float64\n",
            " 6   new_cases_smoothed                          126883 non-null  float64\n",
            " 7   total_deaths                                115045 non-null  float64\n",
            " 8   new_deaths                                  127283 non-null  float64\n",
            " 9   new_deaths_smoothed                         126883 non-null  float64\n",
            " 10  total_cases_per_million                     121318 non-null  float64\n",
            " 11  new_cases_per_million                       127282 non-null  float64\n",
            " 12  new_cases_smoothed_per_million              126882 non-null  float64\n",
            " 13  total_deaths_per_million                    115044 non-null  float64\n",
            " 14  new_deaths_per_million                      127282 non-null  float64\n",
            " 15  new_deaths_smoothed_per_million             126882 non-null  float64\n",
            " 16  reproduction_rate                           61946 non-null   float64\n",
            " 17  icu_patients                                15437 non-null   float64\n",
            " 18  icu_patients_per_million                    15437 non-null   float64\n",
            " 19  hosp_patients                               14727 non-null   float64\n",
            " 20  hosp_patients_per_million                   14727 non-null   float64\n",
            " 21  weekly_icu_admissions                       4163 non-null    float64\n",
            " 22  weekly_icu_admissions_per_million           4163 non-null    float64\n",
            " 23  weekly_hosp_admissions                      7958 non-null    float64\n",
            " 24  weekly_hosp_admissions_per_million          7958 non-null    float64\n",
            " 25  total_tests                                 23669 non-null   float64\n",
            " 26  new_tests                                   22091 non-null   float64\n",
            " 27  total_tests_per_thousand                    23669 non-null   float64\n",
            " 28  new_tests_per_thousand                      22091 non-null   float64\n",
            " 29  new_tests_smoothed                          32109 non-null   float64\n",
            " 30  new_tests_smoothed_per_thousand             32109 non-null   float64\n",
            " 31  positive_rate                               29592 non-null   float64\n",
            " 32  tests_per_case                              28999 non-null   float64\n",
            " 33  tests_units                                 33172 non-null   object \n",
            " 34  total_vaccinations                          28213 non-null   float64\n",
            " 35  people_vaccinated                           25553 non-null   float64\n",
            " 36  people_fully_vaccinated                     25480 non-null   float64\n",
            " 37  total_boosters                              17813 non-null   float64\n",
            " 38  new_vaccinations                            23158 non-null   float64\n",
            " 39  new_vaccinations_smoothed                   66149 non-null   float64\n",
            " 40  total_vaccinations_per_hundred              28213 non-null   float64\n",
            " 41  people_vaccinated_per_hundred               25553 non-null   float64\n",
            " 42  people_fully_vaccinated_per_hundred         25480 non-null   float64\n",
            " 43  total_boosters_per_hundred                  17813 non-null   float64\n",
            " 44  new_vaccinations_smoothed_per_million       66149 non-null   float64\n",
            " 45  new_people_vaccinated_smoothed              64065 non-null   float64\n",
            " 46  new_people_vaccinated_smoothed_per_hundred  64065 non-null   float64\n",
            " 47  stringency_index                            66633 non-null   float64\n",
            " 48  population_density                          113321 non-null  float64\n",
            " 49  median_age                                  103739 non-null  float64\n",
            " 50  aged_65_older                               102142 non-null  float64\n",
            " 51  aged_70_older                               103739 non-null  float64\n",
            " 52  gdp_per_capita                              102142 non-null  float64\n",
            " 53  extreme_poverty                             62199 non-null   float64\n",
            " 54  cardiovasc_death_rate                       103739 non-null  float64\n",
            " 55  diabetes_prevalence                         110127 non-null  float64\n",
            " 56  female_smokers                              76590 non-null   float64\n",
            " 57  male_smokers                                76590 non-null   float64\n",
            " 58  handwashing_facilities                      52569 non-null   float64\n",
            " 59  hospital_beds_per_thousand                  90963 non-null   float64\n",
            " 60  life_expectancy                             121306 non-null  float64\n",
            " 61  human_development_index                     100545 non-null  float64\n",
            " 62  population                                  129107 non-null  float64\n",
            " 63  excess_mortality_cumulative_absolute        4152 non-null    float64\n",
            " 64  excess_mortality_cumulative                 4152 non-null    float64\n",
            " 65  excess_mortality                            4152 non-null    float64\n",
            " 66  excess_mortality_cumulative_per_million     4152 non-null    float64\n",
            "dtypes: float64(62), object(5)\n",
            "memory usage: 66.0+ MB\n"
          ]
        }
      ]
    },
    {
      "cell_type": "code",
      "source": [
        "df.shape"
      ],
      "metadata": {
        "colab": {
          "base_uri": "https://localhost:8080/"
        },
        "id": "ky9OJve5CmwL",
        "outputId": "f336f954-0ebf-4280-cbbe-ed5239a5385e"
      },
      "execution_count": 18,
      "outputs": [
        {
          "output_type": "execute_result",
          "data": {
            "text/plain": [
              "(129108, 67)"
            ]
          },
          "metadata": {},
          "execution_count": 18
        }
      ]
    },
    {
      "cell_type": "markdown",
      "source": [
        "##Gestion des valeurs  manquantes"
      ],
      "metadata": {
        "id": "fi_HA7EyCyXz"
      }
    },
    {
      "cell_type": "code",
      "source": [
        "df.isna().sum()"
      ],
      "metadata": {
        "colab": {
          "base_uri": "https://localhost:8080/"
        },
        "id": "xZbpExeBB8ef",
        "outputId": "cadcadb1-9a4f-47ac-e66f-baca1d41c7e5"
      },
      "execution_count": 19,
      "outputs": [
        {
          "output_type": "execute_result",
          "data": {
            "text/plain": [
              "iso_code                                        0\n",
              "continent                                    6442\n",
              "location                                        0\n",
              "date                                            0\n",
              "total_cases                                  7790\n",
              "                                            ...  \n",
              "population                                      1\n",
              "excess_mortality_cumulative_absolute       124956\n",
              "excess_mortality_cumulative                124956\n",
              "excess_mortality                           124956\n",
              "excess_mortality_cumulative_per_million    124956\n",
              "Length: 67, dtype: int64"
            ]
          },
          "metadata": {},
          "execution_count": 19
        }
      ]
    },
    {
      "cell_type": "markdown",
      "source": [
        "###Colonne Continent"
      ],
      "metadata": {
        "id": "xgwIGa3rDkGT"
      }
    },
    {
      "cell_type": "code",
      "source": [
        "df.continent.value_counts()"
      ],
      "metadata": {
        "colab": {
          "base_uri": "https://localhost:8080/"
        },
        "id": "DhyIZgaNC5HF",
        "outputId": "48c58c76-657a-43ea-8b44-17f5dc12a85a"
      },
      "execution_count": 20,
      "outputs": [
        {
          "output_type": "execute_result",
          "data": {
            "text/plain": [
              "continent\n",
              "Africa           34985\n",
              "North America    27160\n",
              "Europe           25365\n",
              "Asia             14391\n",
              "South America    12780\n",
              "Oceania           7985\n",
              "Name: count, dtype: int64"
            ]
          },
          "metadata": {},
          "execution_count": 20
        }
      ]
    },
    {
      "cell_type": "code",
      "source": [
        "df['continent']=df['continent'].fillna('Europe')"
      ],
      "metadata": {
        "id": "aBlAF5ktCGsS"
      },
      "execution_count": 21,
      "outputs": []
    },
    {
      "cell_type": "code",
      "source": [
        "df.continent.unique()"
      ],
      "metadata": {
        "colab": {
          "base_uri": "https://localhost:8080/"
        },
        "id": "ni_TutAYCxrP",
        "outputId": "744957e7-6ecd-4464-a27e-40fe5df99f6c"
      },
      "execution_count": 22,
      "outputs": [
        {
          "output_type": "execute_result",
          "data": {
            "text/plain": [
              "array(['Asia', 'Europe', 'Africa', 'Oceania', 'North America',\n",
              "       'South America'], dtype=object)"
            ]
          },
          "metadata": {},
          "execution_count": 22
        }
      ]
    },
    {
      "cell_type": "markdown",
      "source": [
        "#### Colonne Population"
      ],
      "metadata": {
        "id": "xA-4LCGcDoAB"
      }
    },
    {
      "cell_type": "code",
      "source": [
        "df.population.isna()"
      ],
      "metadata": {
        "colab": {
          "base_uri": "https://localhost:8080/"
        },
        "id": "_BkPlnWSDU4z",
        "outputId": "65e6d852-4cfe-4c22-9c4d-be3dded727ca"
      },
      "execution_count": 23,
      "outputs": [
        {
          "output_type": "execute_result",
          "data": {
            "text/plain": [
              "0         False\n",
              "1         False\n",
              "2         False\n",
              "3         False\n",
              "4         False\n",
              "          ...  \n",
              "129103    False\n",
              "129104    False\n",
              "129105    False\n",
              "129106    False\n",
              "129107     True\n",
              "Name: population, Length: 129108, dtype: bool"
            ]
          },
          "metadata": {},
          "execution_count": 23
        }
      ]
    },
    {
      "cell_type": "code",
      "source": [
        "df.population.isna()"
      ],
      "metadata": {
        "colab": {
          "base_uri": "https://localhost:8080/"
        },
        "id": "gAyigQ_oKCX-",
        "outputId": "021a2473-31b8-44ce-d72c-14bf0f4843ac"
      },
      "execution_count": 34,
      "outputs": [
        {
          "output_type": "execute_result",
          "data": {
            "text/plain": [
              "0         False\n",
              "1         False\n",
              "2         False\n",
              "3         False\n",
              "4         False\n",
              "          ...  \n",
              "129103    False\n",
              "129104    False\n",
              "129105    False\n",
              "129106    False\n",
              "129107    False\n",
              "Name: population, Length: 129108, dtype: bool"
            ]
          },
          "metadata": {},
          "execution_count": 34
        }
      ]
    },
    {
      "cell_type": "code",
      "source": [
        "df['population']=df['population'].fillna(4.721383e+09)\n",
        "\n"
      ],
      "metadata": {
        "id": "8sLTRKkkDsqz"
      },
      "execution_count": 33,
      "outputs": []
    },
    {
      "cell_type": "code",
      "source": [
        "df['population'].value_counts()"
      ],
      "metadata": {
        "id": "Ci81krL3J_FH",
        "colab": {
          "base_uri": "https://localhost:8080/"
        },
        "outputId": "db101e10-1e61-4bda-bf09-895cd6a8471b"
      },
      "execution_count": 35,
      "outputs": [
        {
          "output_type": "execute_result",
          "data": {
            "text/plain": [
              "population\n",
              "4.721383e+09    1615\n",
              "1.049399e+07    1615\n",
              "1.711864e+08    1615\n",
              "6.781955e+06    1615\n",
              "4.501468e+08    1615\n",
              "                ... \n",
              "7.824570e+05    1597\n",
              "6.420700e+04    1597\n",
              "2.705995e+06    1447\n",
              "5.655000e+07    1359\n",
              "4.721383e+09       1\n",
              "Name: count, Length: 82, dtype: int64"
            ]
          },
          "metadata": {},
          "execution_count": 35
        }
      ]
    },
    {
      "cell_type": "code",
      "source": [
        "df.isna().sum()"
      ],
      "metadata": {
        "colab": {
          "base_uri": "https://localhost:8080/"
        },
        "id": "oKNPCl8yLeih",
        "outputId": "669e62b1-868a-40f1-d2e5-7a7ffa6844bf"
      },
      "execution_count": 37,
      "outputs": [
        {
          "output_type": "execute_result",
          "data": {
            "text/plain": [
              "iso_code                                        0\n",
              "continent                                       0\n",
              "location                                        0\n",
              "date                                            0\n",
              "total_cases                                  7790\n",
              "                                            ...  \n",
              "population                                      0\n",
              "excess_mortality_cumulative_absolute       124956\n",
              "excess_mortality_cumulative                124956\n",
              "excess_mortality                           124956\n",
              "excess_mortality_cumulative_per_million    124956\n",
              "Length: 67, dtype: int64"
            ]
          },
          "metadata": {},
          "execution_count": 37
        }
      ]
    },
    {
      "cell_type": "code",
      "source": [
        "df.info()"
      ],
      "metadata": {
        "colab": {
          "base_uri": "https://localhost:8080/"
        },
        "id": "Z1r8w9fWMoNQ",
        "outputId": "fd2ae7cf-67f1-4d1c-ae7f-0223e3496e55"
      },
      "execution_count": 38,
      "outputs": [
        {
          "output_type": "stream",
          "name": "stdout",
          "text": [
            "<class 'pandas.core.frame.DataFrame'>\n",
            "RangeIndex: 129108 entries, 0 to 129107\n",
            "Data columns (total 67 columns):\n",
            " #   Column                                      Non-Null Count   Dtype  \n",
            "---  ------                                      --------------   -----  \n",
            " 0   iso_code                                    129108 non-null  object \n",
            " 1   continent                                   129108 non-null  object \n",
            " 2   location                                    129108 non-null  object \n",
            " 3   date                                        129108 non-null  object \n",
            " 4   total_cases                                 121318 non-null  float64\n",
            " 5   new_cases                                   127283 non-null  float64\n",
            " 6   new_cases_smoothed                          126883 non-null  float64\n",
            " 7   total_deaths                                115045 non-null  float64\n",
            " 8   new_deaths                                  127283 non-null  float64\n",
            " 9   new_deaths_smoothed                         126883 non-null  float64\n",
            " 10  total_cases_per_million                     121318 non-null  float64\n",
            " 11  new_cases_per_million                       127282 non-null  float64\n",
            " 12  new_cases_smoothed_per_million              126882 non-null  float64\n",
            " 13  total_deaths_per_million                    115044 non-null  float64\n",
            " 14  new_deaths_per_million                      127282 non-null  float64\n",
            " 15  new_deaths_smoothed_per_million             126882 non-null  float64\n",
            " 16  reproduction_rate                           61946 non-null   float64\n",
            " 17  icu_patients                                15437 non-null   float64\n",
            " 18  icu_patients_per_million                    15437 non-null   float64\n",
            " 19  hosp_patients                               14727 non-null   float64\n",
            " 20  hosp_patients_per_million                   14727 non-null   float64\n",
            " 21  weekly_icu_admissions                       4163 non-null    float64\n",
            " 22  weekly_icu_admissions_per_million           4163 non-null    float64\n",
            " 23  weekly_hosp_admissions                      7958 non-null    float64\n",
            " 24  weekly_hosp_admissions_per_million          7958 non-null    float64\n",
            " 25  total_tests                                 23669 non-null   float64\n",
            " 26  new_tests                                   22091 non-null   float64\n",
            " 27  total_tests_per_thousand                    23669 non-null   float64\n",
            " 28  new_tests_per_thousand                      22091 non-null   float64\n",
            " 29  new_tests_smoothed                          32109 non-null   float64\n",
            " 30  new_tests_smoothed_per_thousand             32109 non-null   float64\n",
            " 31  positive_rate                               29592 non-null   float64\n",
            " 32  tests_per_case                              28999 non-null   float64\n",
            " 33  tests_units                                 33172 non-null   object \n",
            " 34  total_vaccinations                          28213 non-null   float64\n",
            " 35  people_vaccinated                           25553 non-null   float64\n",
            " 36  people_fully_vaccinated                     25480 non-null   float64\n",
            " 37  total_boosters                              17813 non-null   float64\n",
            " 38  new_vaccinations                            23158 non-null   float64\n",
            " 39  new_vaccinations_smoothed                   66149 non-null   float64\n",
            " 40  total_vaccinations_per_hundred              28213 non-null   float64\n",
            " 41  people_vaccinated_per_hundred               25553 non-null   float64\n",
            " 42  people_fully_vaccinated_per_hundred         25480 non-null   float64\n",
            " 43  total_boosters_per_hundred                  17813 non-null   float64\n",
            " 44  new_vaccinations_smoothed_per_million       66149 non-null   float64\n",
            " 45  new_people_vaccinated_smoothed              64065 non-null   float64\n",
            " 46  new_people_vaccinated_smoothed_per_hundred  64065 non-null   float64\n",
            " 47  stringency_index                            66633 non-null   float64\n",
            " 48  population_density                          113321 non-null  float64\n",
            " 49  median_age                                  103739 non-null  float64\n",
            " 50  aged_65_older                               102142 non-null  float64\n",
            " 51  aged_70_older                               103739 non-null  float64\n",
            " 52  gdp_per_capita                              102142 non-null  float64\n",
            " 53  extreme_poverty                             62199 non-null   float64\n",
            " 54  cardiovasc_death_rate                       103739 non-null  float64\n",
            " 55  diabetes_prevalence                         110127 non-null  float64\n",
            " 56  female_smokers                              76590 non-null   float64\n",
            " 57  male_smokers                                76590 non-null   float64\n",
            " 58  handwashing_facilities                      52569 non-null   float64\n",
            " 59  hospital_beds_per_thousand                  90963 non-null   float64\n",
            " 60  life_expectancy                             121306 non-null  float64\n",
            " 61  human_development_index                     100545 non-null  float64\n",
            " 62  population                                  129108 non-null  float64\n",
            " 63  excess_mortality_cumulative_absolute        4152 non-null    float64\n",
            " 64  excess_mortality_cumulative                 4152 non-null    float64\n",
            " 65  excess_mortality                            4152 non-null    float64\n",
            " 66  excess_mortality_cumulative_per_million     4152 non-null    float64\n",
            "dtypes: float64(62), object(5)\n",
            "memory usage: 66.0+ MB\n"
          ]
        }
      ]
    },
    {
      "cell_type": "code",
      "source": [
        "df['total_cases']=df['total_cases'].fillna(0)"
      ],
      "metadata": {
        "id": "ln3hZ3gyMfvh"
      },
      "execution_count": 39,
      "outputs": []
    },
    {
      "cell_type": "code",
      "source": [
        "df.isna().sum()"
      ],
      "metadata": {
        "colab": {
          "base_uri": "https://localhost:8080/"
        },
        "id": "kAkoT2q1M3o7",
        "outputId": "a206d320-8a7f-4965-d92a-f1b6e9a5ae69"
      },
      "execution_count": 41,
      "outputs": [
        {
          "output_type": "execute_result",
          "data": {
            "text/plain": [
              "iso_code                                        0\n",
              "continent                                       0\n",
              "location                                        0\n",
              "date                                            0\n",
              "total_cases                                     0\n",
              "                                            ...  \n",
              "population                                      0\n",
              "excess_mortality_cumulative_absolute       124956\n",
              "excess_mortality_cumulative                124956\n",
              "excess_mortality                           124956\n",
              "excess_mortality_cumulative_per_million    124956\n",
              "Length: 67, dtype: int64"
            ]
          },
          "metadata": {},
          "execution_count": 41
        }
      ]
    },
    {
      "cell_type": "markdown",
      "source": [
        "### Rest des colonnes : Remplir par 0"
      ],
      "metadata": {
        "id": "dGqEU5RINRCD"
      }
    },
    {
      "cell_type": "code",
      "source": [
        "cols_to_fill_zero = ['excess_mortality_cumulative_absolute', 'excess_mortality_cumulative',\n",
        "                     'excess_mortality', 'excess_mortality_cumulative_per_million']"
      ],
      "metadata": {
        "id": "aMtJRBhlM6A_"
      },
      "execution_count": 42,
      "outputs": []
    },
    {
      "cell_type": "code",
      "source": [
        "df[cols_to_fill_zero] = df[cols_to_fill_zero].fillna(0)"
      ],
      "metadata": {
        "id": "n9iRow66NFqw"
      },
      "execution_count": 43,
      "outputs": []
    },
    {
      "cell_type": "code",
      "source": [
        "df.isna().sum()"
      ],
      "metadata": {
        "colab": {
          "base_uri": "https://localhost:8080/"
        },
        "id": "FbkPoN_pNIqN",
        "outputId": "021531f3-3c18-4750-e789-2635e136df19"
      },
      "execution_count": 44,
      "outputs": [
        {
          "output_type": "execute_result",
          "data": {
            "text/plain": [
              "iso_code                                   0\n",
              "continent                                  0\n",
              "location                                   0\n",
              "date                                       0\n",
              "total_cases                                0\n",
              "                                          ..\n",
              "population                                 0\n",
              "excess_mortality_cumulative_absolute       0\n",
              "excess_mortality_cumulative                0\n",
              "excess_mortality                           0\n",
              "excess_mortality_cumulative_per_million    0\n",
              "Length: 67, dtype: int64"
            ]
          },
          "metadata": {},
          "execution_count": 44
        }
      ]
    },
    {
      "cell_type": "markdown",
      "source": [
        "##Enregistrer les données nettoyées dans un nouveau fichier CSV"
      ],
      "metadata": {
        "id": "mobmUmVHNmrY"
      }
    },
    {
      "cell_type": "code",
      "source": [
        "df.to_csv('cleaned_covid_data.csv', index=False)"
      ],
      "metadata": {
        "id": "6UtxXp0ANK53"
      },
      "execution_count": 45,
      "outputs": []
    }
  ]
}